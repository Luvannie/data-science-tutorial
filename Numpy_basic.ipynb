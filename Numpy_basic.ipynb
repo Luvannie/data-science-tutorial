{
 "cells": [
  {
   "cell_type": "markdown",
   "id": "fac7de46",
   "metadata": {},
   "source": [
    "# Numpy: Numeric computing library\n",
    "NumPy (Numerical Python) is one of the core packages for numerical computing in Python. Pandas, Matplotlib, Statmodels and many other Scientific libraries rely on NumPy.\n",
    "\n",
    "NumPy major contributions are:\n",
    "\n",
    "Efficient numeric computation with C primitives\n",
    "Efficient collections with vectorized operations\n",
    "An integrated and natural Linear Algebra API\n",
    "A C API for connecting NumPy with libraries written in C, C++, or FORTRAN.\n",
    "Let's develop on efficiency. In Python, everything is an object, which means that even simple ints are also objects, with all the required machinery to make object work. We call them \"Boxed Ints\". In contrast, NumPy uses primitive numeric types (floats, ints) which makes storing and computation efficient.\n",
    "\n"
   ]
  },
  {
   "cell_type": "code",
   "execution_count": 1,
   "id": "a24bada8",
   "metadata": {},
   "outputs": [],
   "source": [
    "import numpy as np\n",
    "import sys"
   ]
  },
  {
   "cell_type": "markdown",
   "id": "fd756684",
   "metadata": {},
   "source": [
    "# Create numpy arrays from list"
   ]
  },
  {
   "cell_type": "code",
   "execution_count": 2,
   "id": "7ef7366b",
   "metadata": {},
   "outputs": [
    {
     "data": {
      "text/plain": [
       "array([1, 2, 3, 5, 6, 7])"
      ]
     },
     "execution_count": 2,
     "metadata": {},
     "output_type": "execute_result"
    }
   ],
   "source": [
    "np.array([1,2,3,5,6,7])"
   ]
  },
  {
   "cell_type": "code",
   "execution_count": 3,
   "id": "8dbda6fd",
   "metadata": {},
   "outputs": [
    {
     "data": {
      "text/plain": [
       "[3.458, 1, 3, 5]"
      ]
     },
     "execution_count": 3,
     "metadata": {},
     "output_type": "execute_result"
    }
   ],
   "source": [
    "[3.458,1,3,5] # list hì cho phép tồn tại nhiều kiểu dữ liệu trong 1 list"
   ]
  },
  {
   "cell_type": "code",
   "execution_count": 4,
   "id": "543bb65d",
   "metadata": {},
   "outputs": [
    {
     "data": {
      "text/plain": [
       "array([3.458, 1.   , 3.   , 5.   ])"
      ]
     },
     "execution_count": 4,
     "metadata": {},
     "output_type": "execute_result"
    }
   ],
   "source": [
    "np.array([3.458,1,3,5]) # nhưng array thì đưa hết về kiểu"
   ]
  },
  {
   "cell_type": "code",
   "execution_count": 8,
   "id": "0e3b7cba",
   "metadata": {},
   "outputs": [
    {
     "data": {
      "text/plain": [
       "dtype('float64')"
      ]
     },
     "execution_count": 8,
     "metadata": {},
     "output_type": "execute_result"
    }
   ],
   "source": [
    "np.array([3.0,1,3,5]).dtype # từ ví dụ này thì suy ra là có float thì đưa hết về float\n"
   ]
  },
  {
   "cell_type": "code",
   "execution_count": 7,
   "id": "8404a833",
   "metadata": {},
   "outputs": [
    {
     "data": {
      "text/plain": [
       "array([3.458, 1.   , 3.   , 5.   ], dtype=float32)"
      ]
     },
     "execution_count": 7,
     "metadata": {},
     "output_type": "execute_result"
    }
   ],
   "source": [
    "np.array([3.458,1,3,5], dtype=\"float32\") # chuẩn hóa toàn bộ về 1 kiểu "
   ]
  },
  {
   "cell_type": "code",
   "execution_count": 14,
   "id": "36f4e746",
   "metadata": {},
   "outputs": [],
   "source": [
    "arr=np.array([[3.43,75,673], [2837,7.4,-842]],dtype=\"float64\")"
   ]
  },
  {
   "cell_type": "code",
   "execution_count": 20,
   "id": "c59c5916",
   "metadata": {},
   "outputs": [
    {
     "name": "stdout",
     "output_type": "stream",
     "text": [
      "[[   3.43   75.    673.  ]\n",
      " [2837.      7.4  -842.  ]]\n"
     ]
    },
    {
     "data": {
      "text/plain": [
       "numpy.ndarray"
      ]
     },
     "execution_count": 20,
     "metadata": {},
     "output_type": "execute_result"
    }
   ],
   "source": [
    "print(arr)\n",
    "type(arr)"
   ]
  },
  {
   "cell_type": "code",
   "execution_count": 16,
   "id": "82ab3c6f",
   "metadata": {},
   "outputs": [
    {
     "data": {
      "text/plain": [
       "(2, 3)"
      ]
     },
     "execution_count": 16,
     "metadata": {},
     "output_type": "execute_result"
    }
   ],
   "source": [
    "arr.shape # trả về kích thước của  array"
   ]
  },
  {
   "cell_type": "code",
   "execution_count": 17,
   "id": "1a083a27",
   "metadata": {},
   "outputs": [
    {
     "data": {
      "text/plain": [
       "6"
      ]
     },
     "execution_count": 17,
     "metadata": {},
     "output_type": "execute_result"
    }
   ],
   "source": [
    "arr.size # số lượng phần tử "
   ]
  },
  {
   "cell_type": "code",
   "execution_count": 18,
   "id": "8c8fd4ae",
   "metadata": {},
   "outputs": [
    {
     "data": {
      "text/plain": [
       "2"
      ]
     },
     "execution_count": 18,
     "metadata": {},
     "output_type": "execute_result"
    }
   ],
   "source": [
    "arr.ndim # số chiều"
   ]
  },
  {
   "cell_type": "code",
   "execution_count": 19,
   "id": "07641642",
   "metadata": {},
   "outputs": [
    {
     "data": {
      "text/plain": [
       "dtype('float64')"
      ]
     },
     "execution_count": 19,
     "metadata": {},
     "output_type": "execute_result"
    }
   ],
   "source": [
    "arr.dtype # kiểu dữ liệu có trong array"
   ]
  },
  {
   "cell_type": "markdown",
   "id": "f17261e6",
   "metadata": {},
   "source": [
    "# Create numpy arrays from Scratch"
   ]
  },
  {
   "cell_type": "markdown",
   "id": "8e2e526f",
   "metadata": {},
   "source": [
    "## zeros, ones,full,arange,linspace"
   ]
  },
  {
   "cell_type": "code",
   "execution_count": 21,
   "id": "1e6a09b6",
   "metadata": {},
   "outputs": [
    {
     "data": {
      "text/plain": [
       "array([[0, 0, 0],\n",
       "       [0, 0, 0],\n",
       "       [0, 0, 0]])"
      ]
     },
     "execution_count": 21,
     "metadata": {},
     "output_type": "execute_result"
    }
   ],
   "source": [
    "np.zeros((3,3),dtype=\"int32\") # tạo array toàn là số 0, với kiểu dữ liệu là int32"
   ]
  },
  {
   "cell_type": "code",
   "execution_count": 22,
   "id": "23ff57ff",
   "metadata": {},
   "outputs": [
    {
     "data": {
      "text/plain": [
       "array([[1, 1, 1],\n",
       "       [1, 1, 1],\n",
       "       [1, 1, 1]])"
      ]
     },
     "execution_count": 22,
     "metadata": {},
     "output_type": "execute_result"
    }
   ],
   "source": [
    "np.ones((3,3),dtype=\"int32\") # tạo array toàn là số 1, với kiểu dữ liệu là int 32"
   ]
  },
  {
   "cell_type": "code",
   "execution_count": 25,
   "id": "871185d8",
   "metadata": {},
   "outputs": [
    {
     "data": {
      "text/plain": [
       "array([-100,  -99,  -98,  -97,  -96,  -95,  -94,  -93,  -92,  -91,  -90,\n",
       "        -89,  -88,  -87,  -86,  -85,  -84,  -83,  -82,  -81,  -80,  -79,\n",
       "        -78,  -77,  -76,  -75,  -74,  -73,  -72,  -71,  -70,  -69,  -68,\n",
       "        -67,  -66,  -65,  -64,  -63,  -62,  -61,  -60,  -59,  -58,  -57,\n",
       "        -56,  -55,  -54,  -53,  -52,  -51,  -50,  -49,  -48,  -47,  -46,\n",
       "        -45,  -44,  -43,  -42,  -41,  -40,  -39,  -38,  -37,  -36,  -35,\n",
       "        -34,  -33,  -32,  -31,  -30,  -29,  -28,  -27,  -26,  -25,  -24,\n",
       "        -23,  -22,  -21,  -20,  -19,  -18,  -17,  -16,  -15,  -14,  -13,\n",
       "        -12,  -11,  -10,   -9,   -8,   -7,   -6,   -5,   -4,   -3,   -2,\n",
       "         -1,    0,    1,    2,    3,    4,    5,    6,    7,    8,    9,\n",
       "         10,   11,   12,   13,   14,   15,   16,   17,   18,   19,   20,\n",
       "         21,   22,   23,   24,   25,   26,   27,   28,   29,   30,   31,\n",
       "         32,   33,   34,   35,   36,   37,   38,   39,   40,   41,   42,\n",
       "         43,   44,   45,   46,   47,   48,   49,   50,   51,   52,   53,\n",
       "         54,   55,   56,   57,   58,   59,   60,   61,   62,   63,   64,\n",
       "         65,   66,   67,   68,   69,   70,   71,   72,   73,   74,   75,\n",
       "         76,   77,   78,   79,   80,   81,   82,   83,   84,   85,   86,\n",
       "         87,   88,   89,   90,   91,   92,   93,   94,   95,   96,   97,\n",
       "         98,   99,  100,  101,  102,  103,  104,  105,  106,  107,  108])"
      ]
     },
     "execution_count": 25,
     "metadata": {},
     "output_type": "execute_result"
    }
   ],
   "source": [
    "# tạo 1 mảng tuyến tính \n",
    "np.arange(-100,109,1) # (start, stop, step)"
   ]
  },
  {
   "cell_type": "code",
   "execution_count": 28,
   "id": "11cc1d3f",
   "metadata": {},
   "outputs": [
    {
     "data": {
      "text/plain": [
       "1"
      ]
     },
     "execution_count": 28,
     "metadata": {},
     "output_type": "execute_result"
    }
   ],
   "source": [
    "np.arange(-100,109,1).ndim"
   ]
  },
  {
   "cell_type": "code",
   "execution_count": 26,
   "id": "e212fe11",
   "metadata": {},
   "outputs": [
    {
     "data": {
      "text/plain": [
       "array([[13., 13., 13.],\n",
       "       [13., 13., 13.],\n",
       "       [13., 13., 13.]], dtype=float32)"
      ]
     },
     "execution_count": 26,
     "metadata": {},
     "output_type": "execute_result"
    }
   ],
   "source": [
    "np.full((3,3),13,dtype=\"float32\") # giống với hàm ones, zeros nhưng là điền vào bằng các số khác"
   ]
  },
  {
   "cell_type": "code",
   "execution_count": 30,
   "id": "9c91991d",
   "metadata": {},
   "outputs": [
    {
     "data": {
      "text/plain": [
       "array([0. , 0.1, 0.2, 0.3, 0.4, 0.5, 0.6, 0.7, 0.8, 0.9, 1. ])"
      ]
     },
     "execution_count": 30,
     "metadata": {},
     "output_type": "execute_result"
    }
   ],
   "source": [
    "np.linspace(0,1,11) # linspace= linear space, hàm này cũng tạo mảng chia đều (start,stop,số phần tử) "
   ]
  },
  {
   "cell_type": "markdown",
   "id": "1feaff88",
   "metadata": {},
   "source": [
    "## random"
   ]
  },
  {
   "cell_type": "code",
   "execution_count": 33,
   "id": "19bc4efd",
   "metadata": {},
   "outputs": [
    {
     "data": {
      "text/plain": [
       "array([[0.53935084, 0.59235725, 0.84807666],\n",
       "       [0.32796835, 0.13842076, 0.71996916],\n",
       "       [0.46661705, 0.79325138, 0.93334361]])"
      ]
     },
     "execution_count": 33,
     "metadata": {},
     "output_type": "execute_result"
    }
   ],
   "source": [
    "np.random.random((3,3)) #Return random floats in the half-open interval [0.0, 1.0)"
   ]
  },
  {
   "cell_type": "code",
   "execution_count": 44,
   "id": "9d2e5d08",
   "metadata": {},
   "outputs": [
    {
     "data": {
      "text/plain": [
       "array([[0.16130952, 0.65310833, 0.2532916 ],\n",
       "       [0.46631077, 0.24442559, 0.15896958],\n",
       "       [0.11037514, 0.65632959, 0.13818295]])"
      ]
     },
     "execution_count": 44,
     "metadata": {},
     "output_type": "execute_result"
    }
   ],
   "source": [
    "np.random.rand(3,3) # anh em sinh đôi với random.random"
   ]
  },
  {
   "cell_type": "code",
   "execution_count": 36,
   "id": "c86dddaf",
   "metadata": {},
   "outputs": [
    {
     "data": {
      "text/plain": [
       "array([[0.5488135 , 0.71518937, 0.60276338],\n",
       "       [0.54488318, 0.4236548 , 0.64589411],\n",
       "       [0.43758721, 0.891773  , 0.96366276]])"
      ]
     },
     "execution_count": 36,
     "metadata": {},
     "output_type": "execute_result"
    }
   ],
   "source": [
    "#seed for reproducibility\n",
    "np.random.seed(0) # cố định các số cố được random ra\n",
    "np.random.random((3,3))"
   ]
  },
  {
   "cell_type": "code",
   "execution_count": 39,
   "id": "806379d4",
   "metadata": {},
   "outputs": [
    {
     "data": {
      "text/plain": [
       "array([[ 0.37692697,  0.03343893,  0.68056724],\n",
       "       [-1.56349669, -0.56669762, -0.24214951],\n",
       "       [ 1.51439128, -0.3330574 ,  0.04736482]])"
      ]
     },
     "execution_count": 39,
     "metadata": {},
     "output_type": "execute_result"
    }
   ],
   "source": [
    "np.random.normal(0,1,(3,3)) # (giá trị trung bình, độ lệch chuẩn, lích thước)"
   ]
  },
  {
   "cell_type": "code",
   "execution_count": 42,
   "id": "0874f495",
   "metadata": {},
   "outputs": [
    {
     "data": {
      "text/plain": [
       "array([[0, 3, 5],\n",
       "       [9, 4, 4],\n",
       "       [6, 4, 4]])"
      ]
     },
     "execution_count": 42,
     "metadata": {},
     "output_type": "execute_result"
    }
   ],
   "source": [
    "np.random.randint(0,10,(3,3),dtype=\"int32\") # (low,high,size,dtype)"
   ]
  },
  {
   "cell_type": "markdown",
   "id": "8211b988",
   "metadata": {},
   "source": [
    "# Array indexing and slicing"
   ]
  },
  {
   "cell_type": "markdown",
   "id": "a7a18e4f",
   "metadata": {},
   "source": [
    "## one dimensional subarray"
   ]
  },
  {
   "cell_type": "code",
   "execution_count": 10,
   "id": "244e22b9",
   "metadata": {},
   "outputs": [],
   "source": [
    "ar1=np.random.randint(0,100,size=9)"
   ]
  },
  {
   "cell_type": "code",
   "execution_count": 11,
   "id": "1cee83de",
   "metadata": {},
   "outputs": [
    {
     "data": {
      "text/plain": [
       "array([75, 55, 92, 88, 63, 36, 18, 43, 84])"
      ]
     },
     "execution_count": 11,
     "metadata": {},
     "output_type": "execute_result"
    }
   ],
   "source": [
    "ar1"
   ]
  },
  {
   "cell_type": "markdown",
   "id": "fc5db77e",
   "metadata": {},
   "source": [
    "## multi-dimensional subarray"
   ]
  },
  {
   "cell_type": "code",
   "execution_count": 16,
   "id": "5b4fdb16",
   "metadata": {},
   "outputs": [],
   "source": [
    "ar2=np.random.randint(0,100,size=(5,5))"
   ]
  },
  {
   "cell_type": "code",
   "execution_count": 17,
   "id": "4b059550",
   "metadata": {},
   "outputs": [
    {
     "data": {
      "text/plain": [
       "array([[90, 91, 76, 89, 47],\n",
       "       [94, 29, 97, 86, 90],\n",
       "       [49, 67, 84,  6, 83],\n",
       "       [24, 91, 37, 86, 76],\n",
       "       [51, 96, 78, 34, 67]])"
      ]
     },
     "execution_count": 17,
     "metadata": {},
     "output_type": "execute_result"
    }
   ],
   "source": [
    "ar2"
   ]
  },
  {
   "cell_type": "code",
   "execution_count": 18,
   "id": "921af60e",
   "metadata": {},
   "outputs": [
    {
     "data": {
      "text/plain": [
       "84"
      ]
     },
     "execution_count": 18,
     "metadata": {},
     "output_type": "execute_result"
    }
   ],
   "source": [
    "ar2[2][2]"
   ]
  },
  {
   "cell_type": "code",
   "execution_count": 19,
   "id": "e821c714",
   "metadata": {},
   "outputs": [
    {
     "data": {
      "text/plain": [
       "84"
      ]
     },
     "execution_count": 19,
     "metadata": {},
     "output_type": "execute_result"
    }
   ],
   "source": [
    "ar2[2,2] # là 1 cách gọi khác thôi"
   ]
  },
  {
   "cell_type": "code",
   "execution_count": 20,
   "id": "e19c1eca",
   "metadata": {},
   "outputs": [],
   "source": [
    "ar2[2,2]=55 # thay đổi giá trị"
   ]
  },
  {
   "cell_type": "code",
   "execution_count": 21,
   "id": "668637f8",
   "metadata": {},
   "outputs": [
    {
     "data": {
      "text/plain": [
       "array([[90, 91, 76, 89, 47],\n",
       "       [94, 29, 97, 86, 90],\n",
       "       [49, 67, 55,  6, 83],\n",
       "       [24, 91, 37, 86, 76],\n",
       "       [51, 96, 78, 34, 67]])"
      ]
     },
     "execution_count": 21,
     "metadata": {},
     "output_type": "execute_result"
    }
   ],
   "source": [
    "ar2"
   ]
  },
  {
   "cell_type": "markdown",
   "id": "846ab834",
   "metadata": {},
   "source": [
    "## Slicing"
   ]
  },
  {
   "cell_type": "markdown",
   "id": "7d21907c",
   "metadata": {},
   "source": [
    "### X[start,stop,step]"
   ]
  },
  {
   "cell_type": "code",
   "execution_count": 12,
   "id": "abab0cda",
   "metadata": {},
   "outputs": [
    {
     "data": {
      "text/plain": [
       "array([75, 55, 92, 88, 63, 36, 18, 43, 84])"
      ]
     },
     "execution_count": 12,
     "metadata": {},
     "output_type": "execute_result"
    }
   ],
   "source": [
    "ar1"
   ]
  },
  {
   "cell_type": "code",
   "execution_count": 13,
   "id": "664421c9",
   "metadata": {},
   "outputs": [
    {
     "data": {
      "text/plain": [
       "array([75, 88, 18])"
      ]
     },
     "execution_count": 13,
     "metadata": {},
     "output_type": "execute_result"
    }
   ],
   "source": [
    "ar1[0:8:3]"
   ]
  },
  {
   "cell_type": "code",
   "execution_count": 14,
   "id": "b24778ec",
   "metadata": {},
   "outputs": [
    {
     "data": {
      "text/plain": [
       "array([75, 92, 63, 18, 84])"
      ]
     },
     "execution_count": 14,
     "metadata": {},
     "output_type": "execute_result"
    }
   ],
   "source": [
    "ar1[::2] #tất cả  số có chỉ số chẵn 0,2,4,6,..."
   ]
  },
  {
   "cell_type": "code",
   "execution_count": 23,
   "id": "7503e675",
   "metadata": {},
   "outputs": [
    {
     "data": {
      "text/plain": [
       "array([[90, 91, 76, 89, 47],\n",
       "       [94, 29, 97, 86, 90],\n",
       "       [49, 67, 55,  6, 83],\n",
       "       [24, 91, 37, 86, 76],\n",
       "       [51, 96, 78, 34, 67]])"
      ]
     },
     "execution_count": 23,
     "metadata": {},
     "output_type": "execute_result"
    }
   ],
   "source": [
    "ar2"
   ]
  },
  {
   "cell_type": "code",
   "execution_count": 22,
   "id": "5f011dfe",
   "metadata": {},
   "outputs": [
    {
     "data": {
      "text/plain": [
       "array([[90, 91, 76],\n",
       "       [94, 29, 97]])"
      ]
     },
     "execution_count": 22,
     "metadata": {},
     "output_type": "execute_result"
    }
   ],
   "source": [
    "# two rows, three columns\n",
    "ar2[:2,:3]"
   ]
  },
  {
   "cell_type": "code",
   "execution_count": 25,
   "id": "bf1a10cf",
   "metadata": {},
   "outputs": [
    {
     "data": {
      "text/plain": [
       "array([[90, 76, 47],\n",
       "       [94, 97, 90],\n",
       "       [49, 55, 83],\n",
       "       [24, 37, 76],\n",
       "       [51, 78, 67]])"
      ]
     },
     "execution_count": 25,
     "metadata": {},
     "output_type": "execute_result"
    }
   ],
   "source": [
    "ar2[:,::2] # toàn bộ cột chẵn"
   ]
  },
  {
   "cell_type": "markdown",
   "id": "12fc89a0",
   "metadata": {},
   "source": [
    "# Reshaping arrays andTranpose"
   ]
  },
  {
   "cell_type": "code",
   "execution_count": 26,
   "id": "43fee7f2",
   "metadata": {},
   "outputs": [],
   "source": [
    "grid=np.arange(1,10)"
   ]
  },
  {
   "cell_type": "code",
   "execution_count": 27,
   "id": "47b133b7",
   "metadata": {},
   "outputs": [
    {
     "data": {
      "text/plain": [
       "array([1, 2, 3, 4, 5, 6, 7, 8, 9])"
      ]
     },
     "execution_count": 27,
     "metadata": {},
     "output_type": "execute_result"
    }
   ],
   "source": [
    "grid"
   ]
  },
  {
   "cell_type": "code",
   "execution_count": 29,
   "id": "3ced9090",
   "metadata": {},
   "outputs": [
    {
     "data": {
      "text/plain": [
       "(9,)"
      ]
     },
     "execution_count": 29,
     "metadata": {},
     "output_type": "execute_result"
    }
   ],
   "source": [
    "grid.shape"
   ]
  },
  {
   "cell_type": "code",
   "execution_count": 30,
   "id": "e797e12b",
   "metadata": {},
   "outputs": [
    {
     "data": {
      "text/plain": [
       "array([[1, 2, 3],\n",
       "       [4, 5, 6],\n",
       "       [7, 8, 9]])"
      ]
     },
     "execution_count": 30,
     "metadata": {},
     "output_type": "execute_result"
    }
   ],
   "source": [
    "grid.reshape((3,3)) # thay đổi shape"
   ]
  },
  {
   "cell_type": "code",
   "execution_count": 31,
   "id": "b61ac1b9",
   "metadata": {},
   "outputs": [],
   "source": [
    "x=np.array([1,2,3])"
   ]
  },
  {
   "cell_type": "code",
   "execution_count": 32,
   "id": "20265eff",
   "metadata": {},
   "outputs": [
    {
     "data": {
      "text/plain": [
       "(3,)"
      ]
     },
     "execution_count": 32,
     "metadata": {},
     "output_type": "execute_result"
    }
   ],
   "source": [
    "x.shape"
   ]
  },
  {
   "cell_type": "code",
   "execution_count": 35,
   "id": "185b5619",
   "metadata": {},
   "outputs": [],
   "source": [
    "x=x.reshape((1,3)) # chuyển từ 1 dimension thành 2 dimenion"
   ]
  },
  {
   "cell_type": "code",
   "execution_count": 36,
   "id": "1a40bf9d",
   "metadata": {},
   "outputs": [
    {
     "data": {
      "text/plain": [
       "(1, 3)"
      ]
     },
     "execution_count": 36,
     "metadata": {},
     "output_type": "execute_result"
    }
   ],
   "source": [
    "x.shape"
   ]
  },
  {
   "cell_type": "code",
   "execution_count": 37,
   "id": "b6589a12",
   "metadata": {},
   "outputs": [
    {
     "data": {
      "text/plain": [
       "array([[1, 2, 3]])"
      ]
     },
     "execution_count": 37,
     "metadata": {},
     "output_type": "execute_result"
    }
   ],
   "source": [
    "x"
   ]
  },
  {
   "cell_type": "code",
   "execution_count": 38,
   "id": "5cb6f313",
   "metadata": {},
   "outputs": [],
   "source": [
    "y=np.random.randint(1,10,(3,3))"
   ]
  },
  {
   "cell_type": "code",
   "execution_count": 39,
   "id": "9c6c77a5",
   "metadata": {},
   "outputs": [
    {
     "data": {
      "text/plain": [
       "array([[3, 8, 6],\n",
       "       [6, 4, 4],\n",
       "       [3, 4, 8]])"
      ]
     },
     "execution_count": 39,
     "metadata": {},
     "output_type": "execute_result"
    }
   ],
   "source": [
    "y"
   ]
  },
  {
   "cell_type": "code",
   "execution_count": 42,
   "id": "03c463ae",
   "metadata": {},
   "outputs": [
    {
     "data": {
      "text/plain": [
       "array([[3, 6, 3],\n",
       "       [8, 4, 4],\n",
       "       [6, 4, 8]])"
      ]
     },
     "execution_count": 42,
     "metadata": {},
     "output_type": "execute_result"
    }
   ],
   "source": [
    "y.T # ma trận chuyển vị"
   ]
  },
  {
   "cell_type": "markdown",
   "id": "90623ff5",
   "metadata": {},
   "source": [
    "# Array concatenation and spliting"
   ]
  },
  {
   "cell_type": "code",
   "execution_count": 48,
   "id": "cab6fb1b",
   "metadata": {},
   "outputs": [],
   "source": [
    "x=np.array([1,2,4])\n",
    "y=np.array([1,3,9])\n",
    "z=np.concatenate((x,y)) # nối 2 array lại\n",
    "#concatenate((a1, a2, ...), axis=0, out=None, dtype=None, casting=\"same_kind\") Join a sequence of arrays along an existing axis."
   ]
  },
  {
   "cell_type": "code",
   "execution_count": 46,
   "id": "ef1e60b1",
   "metadata": {},
   "outputs": [
    {
     "data": {
      "text/plain": [
       "array([1, 2, 4, 1, 3, 9])"
      ]
     },
     "execution_count": 46,
     "metadata": {},
     "output_type": "execute_result"
    }
   ],
   "source": [
    "z"
   ]
  },
  {
   "cell_type": "code",
   "execution_count": 49,
   "id": "65f154b1",
   "metadata": {},
   "outputs": [],
   "source": [
    "x1=np.array([[1,2,3],\n",
    "             [4,5,6]])\n"
   ]
  },
  {
   "cell_type": "code",
   "execution_count": 50,
   "id": "4371ccc5",
   "metadata": {},
   "outputs": [],
   "source": [
    "x2=np.concatenate((x1,x1)) # để mặc định axis=0 là nối theo cột"
   ]
  },
  {
   "cell_type": "code",
   "execution_count": 51,
   "id": "d3089264",
   "metadata": {},
   "outputs": [
    {
     "data": {
      "text/plain": [
       "array([[1, 2, 3],\n",
       "       [4, 5, 6],\n",
       "       [1, 2, 3],\n",
       "       [4, 5, 6]])"
      ]
     },
     "execution_count": 51,
     "metadata": {},
     "output_type": "execute_result"
    }
   ],
   "source": [
    "x2"
   ]
  },
  {
   "cell_type": "code",
   "execution_count": 52,
   "id": "91a47a7b",
   "metadata": {},
   "outputs": [],
   "source": [
    "x3=np.concatenate((x1,x1),axis=1) # để axis =1 la nối theo hàng"
   ]
  },
  {
   "cell_type": "code",
   "execution_count": 53,
   "id": "04b07f32",
   "metadata": {},
   "outputs": [
    {
     "data": {
      "text/plain": [
       "array([[1, 2, 3, 1, 2, 3],\n",
       "       [4, 5, 6, 4, 5, 6]])"
      ]
     },
     "execution_count": 53,
     "metadata": {},
     "output_type": "execute_result"
    }
   ],
   "source": [
    "x3"
   ]
  },
  {
   "cell_type": "code",
   "execution_count": 54,
   "id": "310a842c",
   "metadata": {},
   "outputs": [],
   "source": [
    "#vstack  nối theo cột\n",
    "x=np.array([1,2,3])\n",
    "grid=np.array([[4,5,6],\n",
    "               [7,8,9]])\n"
   ]
  },
  {
   "cell_type": "code",
   "execution_count": 56,
   "id": "0097bc71",
   "metadata": {},
   "outputs": [
    {
     "data": {
      "text/plain": [
       "array([[1, 2, 3],\n",
       "       [4, 5, 6],\n",
       "       [7, 8, 9]])"
      ]
     },
     "execution_count": 56,
     "metadata": {},
     "output_type": "execute_result"
    }
   ],
   "source": [
    "np.vstack((x,grid))"
   ]
  },
  {
   "cell_type": "code",
   "execution_count": 57,
   "id": "7cbe600a",
   "metadata": {},
   "outputs": [
    {
     "data": {
      "text/plain": [
       "array([[1, 2, 5, 6, 7],\n",
       "       [3, 4, 8, 9, 0]])"
      ]
     },
     "execution_count": 57,
     "metadata": {},
     "output_type": "execute_result"
    }
   ],
   "source": [
    "#hstack nối theo hàng\n",
    "y=np.array([[1,2],\n",
    "           [3,4]])\n",
    "z=np.array([[5,6,7],\n",
    "           [8,9,0]])\n",
    "np.hstack((y,z))"
   ]
  },
  {
   "cell_type": "markdown",
   "id": "31241d2c",
   "metadata": {},
   "source": [
    "## Splitting arrray"
   ]
  },
  {
   "cell_type": "code",
   "execution_count": 58,
   "id": "eb0d154b",
   "metadata": {},
   "outputs": [],
   "source": [
    "x=np.random.randint(1,100,size=20)"
   ]
  },
  {
   "cell_type": "code",
   "execution_count": 59,
   "id": "c35aca7c",
   "metadata": {},
   "outputs": [
    {
     "data": {
      "text/plain": [
       "array([84, 55, 33, 95, 17, 31, 33, 56, 38, 74, 39, 93, 62, 81, 57, 59, 25,\n",
       "       24,  2, 61])"
      ]
     },
     "execution_count": 59,
     "metadata": {},
     "output_type": "execute_result"
    }
   ],
   "source": [
    "x"
   ]
  },
  {
   "cell_type": "code",
   "execution_count": 62,
   "id": "8e36bdca",
   "metadata": {},
   "outputs": [],
   "source": [
    "sub1,sub2,sub3,sub4=np.split(x,[5,10,15])  # những chỉ số sau dấu phẩy là điểm stop của mỗi subarray"
   ]
  },
  {
   "cell_type": "code",
   "execution_count": 63,
   "id": "fd9f5a77",
   "metadata": {},
   "outputs": [
    {
     "data": {
      "text/plain": [
       "(array([84, 55, 33, 95, 17]),\n",
       " array([31, 33, 56, 38, 74]),\n",
       " array([39, 93, 62, 81, 57]),\n",
       " array([59, 25, 24,  2, 61]))"
      ]
     },
     "execution_count": 63,
     "metadata": {},
     "output_type": "execute_result"
    }
   ],
   "source": [
    "sub1,sub2,sub3,sub4"
   ]
  },
  {
   "cell_type": "markdown",
   "id": "355c274c",
   "metadata": {},
   "source": [
    "# Broadcasting and Vectorized operations\n",
    "### broadcasting is simply a set of rules for applying binary ufuns (subtraction,etc) on arrays of different sizes"
   ]
  },
  {
   "attachments": {
    "image.png": {
     "image/png": "[encoded data removed]"
    }
   },
   "cell_type": "markdown",
   "id": "72da0d53",
   "metadata": {},
   "source": [
    "![image.png](attachment:image.png)"
   ]
  },
  {
   "cell_type": "code",
   "execution_count": 64,
   "id": "30c96737",
   "metadata": {},
   "outputs": [],
   "source": [
    "a=np.arange(3)"
   ]
  },
  {
   "cell_type": "code",
   "execution_count": 65,
   "id": "7c0fc1ea",
   "metadata": {},
   "outputs": [
    {
     "data": {
      "text/plain": [
       "array([0, 1, 2])"
      ]
     },
     "execution_count": 65,
     "metadata": {},
     "output_type": "execute_result"
    }
   ],
   "source": [
    "a"
   ]
  },
  {
   "cell_type": "code",
   "execution_count": 66,
   "id": "812c3c55",
   "metadata": {},
   "outputs": [
    {
     "data": {
      "text/plain": [
       "array([5, 6, 7])"
      ]
     },
     "execution_count": 66,
     "metadata": {},
     "output_type": "execute_result"
    }
   ],
   "source": [
    "a+5 # broadcasting"
   ]
  },
  {
   "cell_type": "code",
   "execution_count": 67,
   "id": "dfecf682",
   "metadata": {},
   "outputs": [
    {
     "data": {
      "text/plain": [
       "array([ 0, 10, 20])"
      ]
     },
     "execution_count": 67,
     "metadata": {},
     "output_type": "execute_result"
    }
   ],
   "source": [
    "a*10"
   ]
  },
  {
   "cell_type": "code",
   "execution_count": 75,
   "id": "d2bf60ba",
   "metadata": {},
   "outputs": [],
   "source": [
    "b=np.ones((3,3))"
   ]
  },
  {
   "cell_type": "code",
   "execution_count": 76,
   "id": "ea0cb487",
   "metadata": {},
   "outputs": [
    {
     "data": {
      "text/plain": [
       "(array([[1., 1., 1.],\n",
       "        [1., 1., 1.],\n",
       "        [1., 1., 1.]]),\n",
       " array([0, 1, 2]))"
      ]
     },
     "execution_count": 76,
     "metadata": {},
     "output_type": "execute_result"
    }
   ],
   "source": [
    "b,a"
   ]
  },
  {
   "cell_type": "code",
   "execution_count": 77,
   "id": "498043bc",
   "metadata": {},
   "outputs": [
    {
     "data": {
      "text/plain": [
       "array([[1., 2., 3.],\n",
       "       [1., 2., 3.],\n",
       "       [1., 2., 3.]])"
      ]
     },
     "execution_count": 77,
     "metadata": {},
     "output_type": "execute_result"
    }
   ],
   "source": [
    "b+a"
   ]
  },
  {
   "cell_type": "code",
   "execution_count": 78,
   "id": "2c4159a5",
   "metadata": {},
   "outputs": [
    {
     "data": {
      "text/plain": [
       "array([[0., 1., 2.],\n",
       "       [0., 1., 2.],\n",
       "       [0., 1., 2.]])"
      ]
     },
     "execution_count": 78,
     "metadata": {},
     "output_type": "execute_result"
    }
   ],
   "source": [
    "b*a"
   ]
  },
  {
   "cell_type": "code",
   "execution_count": 79,
   "id": "0272b9e3",
   "metadata": {},
   "outputs": [
    {
     "data": {
      "text/plain": [
       "array([[0., 1., 2.],\n",
       "       [0., 1., 2.],\n",
       "       [0., 1., 2.]])"
      ]
     },
     "execution_count": 79,
     "metadata": {},
     "output_type": "execute_result"
    }
   ],
   "source": [
    "a*b"
   ]
  },
  {
   "cell_type": "code",
   "execution_count": 80,
   "id": "47fd40a0",
   "metadata": {},
   "outputs": [],
   "source": [
    "c=np.arange(3).reshape((3,1))"
   ]
  },
  {
   "cell_type": "code",
   "execution_count": 82,
   "id": "c37737a2",
   "metadata": {},
   "outputs": [
    {
     "data": {
      "text/plain": [
       "(array([0, 1, 2]),\n",
       " array([[0],\n",
       "        [1],\n",
       "        [2]]))"
      ]
     },
     "execution_count": 82,
     "metadata": {},
     "output_type": "execute_result"
    }
   ],
   "source": [
    "a,c"
   ]
  },
  {
   "cell_type": "code",
   "execution_count": 81,
   "id": "7d260ff8",
   "metadata": {},
   "outputs": [
    {
     "data": {
      "text/plain": [
       "array([[0, 1, 2],\n",
       "       [1, 2, 3],\n",
       "       [2, 3, 4]])"
      ]
     },
     "execution_count": 81,
     "metadata": {},
     "output_type": "execute_result"
    }
   ],
   "source": [
    "a+c"
   ]
  },
  {
   "cell_type": "code",
   "execution_count": 83,
   "id": "4fb0c022",
   "metadata": {},
   "outputs": [
    {
     "data": {
      "text/plain": [
       "array([[0, 0, 0],\n",
       "       [0, 1, 2],\n",
       "       [0, 2, 4]])"
      ]
     },
     "execution_count": 83,
     "metadata": {},
     "output_type": "execute_result"
    }
   ],
   "source": [
    "a*c # lưu ý đây ko phải là nhân 2 ma trận đâu, nên là a*c =c*a. broadcast 2 ma trận thành cùng size rồi,nhân cùng index"
   ]
  },
  {
   "cell_type": "markdown",
   "id": "2c91e886",
   "metadata": {},
   "source": [
    "# Manipulating & Comparing Arrays "
   ]
  },
  {
   "cell_type": "markdown",
   "id": "64549cc4",
   "metadata": {},
   "source": [
    "## Aggregation"
   ]
  },
  {
   "cell_type": "code",
   "execution_count": 84,
   "id": "28fd5041",
   "metadata": {},
   "outputs": [],
   "source": [
    "list_num=[1,3,6,7]"
   ]
  },
  {
   "cell_type": "code",
   "execution_count": 85,
   "id": "3d0ee63f",
   "metadata": {},
   "outputs": [],
   "source": [
    "ll=np.array(list_num)"
   ]
  },
  {
   "cell_type": "code",
   "execution_count": 86,
   "id": "ec5d287a",
   "metadata": {},
   "outputs": [
    {
     "data": {
      "text/plain": [
       "17"
      ]
     },
     "execution_count": 86,
     "metadata": {},
     "output_type": "execute_result"
    }
   ],
   "source": [
    "np.sum(ll)"
   ]
  },
  {
   "cell_type": "code",
   "execution_count": 87,
   "id": "07cd7965",
   "metadata": {},
   "outputs": [],
   "source": [
    "# Create a massive array\n",
    "mass=np.random.random(100000)"
   ]
  },
  {
   "cell_type": "code",
   "execution_count": 89,
   "id": "ba202869",
   "metadata": {},
   "outputs": [
    {
     "name": "stdout",
     "output_type": "stream",
     "text": [
      "11.6 ms ± 945 µs per loop (mean ± std. dev. of 7 runs, 100 loops each)\n"
     ]
    }
   ],
   "source": [
    "%timeit sum(mass) # dùng sum của python có sẵn"
   ]
  },
  {
   "cell_type": "code",
   "execution_count": 90,
   "id": "4d8a7ee3",
   "metadata": {},
   "outputs": [
    {
     "name": "stdout",
     "output_type": "stream",
     "text": [
      "62.5 µs ± 2.46 µs per loop (mean ± std. dev. of 7 runs, 10000 loops each)\n"
     ]
    }
   ],
   "source": [
    "%timeit np.sum(mass) # sum của numpy"
   ]
  },
  {
   "cell_type": "markdown",
   "id": "fe1dbb3a",
   "metadata": {},
   "source": [
    "kết luận là hàm của numpy chạy nhanh hơn rất nhiều"
   ]
  },
  {
   "cell_type": "code",
   "execution_count": 91,
   "id": "6a5ac757",
   "metadata": {},
   "outputs": [
    {
     "data": {
      "text/plain": [
       "0.5007151643282508"
      ]
     },
     "execution_count": 91,
     "metadata": {},
     "output_type": "execute_result"
    }
   ],
   "source": [
    "np.mean(mass) # giá trị trung bình"
   ]
  },
  {
   "cell_type": "code",
   "execution_count": 92,
   "id": "3a4c96de",
   "metadata": {},
   "outputs": [
    {
     "data": {
      "text/plain": [
       "0.28871394916892246"
      ]
     },
     "execution_count": 92,
     "metadata": {},
     "output_type": "execute_result"
    }
   ],
   "source": [
    "np.std(mass) # độ lệch chuẩn standard deviation= ameasure of how spread out a group of numbers is from the mean\n",
    "# standard deviation= square root of variance"
   ]
  },
  {
   "cell_type": "code",
   "execution_count": 93,
   "id": "0fbbe8a7",
   "metadata": {},
   "outputs": [
    {
     "data": {
      "text/plain": [
       "0.9999982936211771"
      ]
     },
     "execution_count": 93,
     "metadata": {},
     "output_type": "execute_result"
    }
   ],
   "source": [
    "np.max(mass)"
   ]
  },
  {
   "cell_type": "code",
   "execution_count": 94,
   "id": "b928eae1",
   "metadata": {},
   "outputs": [
    {
     "data": {
      "text/plain": [
       "2.0822423753674713e-05"
      ]
     },
     "execution_count": 94,
     "metadata": {},
     "output_type": "execute_result"
    }
   ],
   "source": [
    "np.min(mass)"
   ]
  },
  {
   "cell_type": "markdown",
   "id": "35fd46b7",
   "metadata": {},
   "source": [
    "# Statistics"
   ]
  },
  {
   "cell_type": "code",
   "execution_count": 96,
   "id": "63155897",
   "metadata": {},
   "outputs": [],
   "source": [
    "dog_height=np.array([600,470,170,430,300])"
   ]
  },
  {
   "cell_type": "code",
   "execution_count": 97,
   "id": "9985bba8",
   "metadata": {},
   "outputs": [
    {
     "data": {
      "text/plain": [
       "394.0"
      ]
     },
     "execution_count": 97,
     "metadata": {},
     "output_type": "execute_result"
    }
   ],
   "source": [
    "np.mean(dog_height)"
   ]
  },
  {
   "cell_type": "code",
   "execution_count": 98,
   "id": "0a464be8",
   "metadata": {},
   "outputs": [
    {
     "data": {
      "text/plain": [
       "21704.0"
      ]
     },
     "execution_count": 98,
     "metadata": {},
     "output_type": "execute_result"
    }
   ],
   "source": [
    "np.var(dog_height) # phương sai"
   ]
  },
  {
   "cell_type": "code",
   "execution_count": 99,
   "id": "fe0ec534",
   "metadata": {},
   "outputs": [
    {
     "data": {
      "text/plain": [
       "147.32277488562318"
      ]
     },
     "execution_count": 99,
     "metadata": {},
     "output_type": "execute_result"
    }
   ],
   "source": [
    "np.std(dog_height) # độ lệch chuẩn"
   ]
  },
  {
   "cell_type": "code",
   "execution_count": 100,
   "id": "ae0260ba",
   "metadata": {},
   "outputs": [
    {
     "data": {
      "text/plain": [
       "147.32277488562318"
      ]
     },
     "execution_count": 100,
     "metadata": {},
     "output_type": "execute_result"
    }
   ],
   "source": [
    " np.sqrt(np.var(dog_height)) # phương sai là bình phươn của độ lệch chuẩn"
   ]
  },
  {
   "cell_type": "markdown",
   "id": "2249cc83",
   "metadata": {},
   "source": [
    "# Sort"
   ]
  },
  {
   "cell_type": "code",
   "execution_count": 101,
   "id": "86d95b9d",
   "metadata": {},
   "outputs": [],
   "source": [
    "# np.sort dựa trên quick sort\n",
    "x=np.random.randint(1,100,size=9)"
   ]
  },
  {
   "cell_type": "code",
   "execution_count": 103,
   "id": "0e358f3d",
   "metadata": {},
   "outputs": [
    {
     "data": {
      "text/plain": [
       "array([49, 35, 82, 87, 21, 34, 34, 18, 23])"
      ]
     },
     "execution_count": 103,
     "metadata": {},
     "output_type": "execute_result"
    }
   ],
   "source": [
    "x"
   ]
  },
  {
   "cell_type": "code",
   "execution_count": 104,
   "id": "8e8eec75",
   "metadata": {},
   "outputs": [
    {
     "data": {
      "text/plain": [
       "array([18, 21, 23, 34, 34, 35, 49, 82, 87])"
      ]
     },
     "execution_count": 104,
     "metadata": {},
     "output_type": "execute_result"
    }
   ],
   "source": [
    "np.sort(x) # sắp xếp theo giá trị"
   ]
  },
  {
   "cell_type": "code",
   "execution_count": 105,
   "id": "88a2ba92",
   "metadata": {},
   "outputs": [
    {
     "data": {
      "text/plain": [
       "array([7, 4, 8, 5, 6, 1, 0, 2, 3], dtype=int64)"
      ]
     },
     "execution_count": 105,
     "metadata": {},
     "output_type": "execute_result"
    }
   ],
   "source": [
    "np.argsort(x) # sắp xếp theo chỉ số"
   ]
  },
  {
   "cell_type": "markdown",
   "id": "41c7f4af",
   "metadata": {},
   "source": [
    "## Sorting along rows and columns\n",
    "NumPy'sorting algo is the ability to sort along specific rows or columns of a multi-dimensional array using the axis argument"
   ]
  },
  {
   "cell_type": "code",
   "execution_count": 106,
   "id": "199763a2",
   "metadata": {},
   "outputs": [],
   "source": [
    "np.random.seed(42)\n",
    "MatA=np.random.randint(0,10,size=(4,6))"
   ]
  },
  {
   "cell_type": "code",
   "execution_count": 107,
   "id": "5862b601",
   "metadata": {},
   "outputs": [
    {
     "data": {
      "text/plain": [
       "array([[6, 3, 7, 4, 6, 9],\n",
       "       [2, 6, 7, 4, 3, 7],\n",
       "       [7, 2, 5, 4, 1, 7],\n",
       "       [5, 1, 4, 0, 9, 5]])"
      ]
     },
     "execution_count": 107,
     "metadata": {},
     "output_type": "execute_result"
    }
   ],
   "source": [
    "MatA"
   ]
  },
  {
   "cell_type": "code",
   "execution_count": 108,
   "id": "a33affd6",
   "metadata": {},
   "outputs": [
    {
     "data": {
      "text/plain": [
       "array([[2, 1, 4, 0, 1, 5],\n",
       "       [5, 2, 5, 4, 3, 7],\n",
       "       [6, 3, 7, 4, 6, 7],\n",
       "       [7, 6, 7, 4, 9, 9]])"
      ]
     },
     "execution_count": 108,
     "metadata": {},
     "output_type": "execute_result"
    }
   ],
   "source": [
    "np.sort(MatA,axis=0) # sort theo cột"
   ]
  },
  {
   "cell_type": "code",
   "execution_count": 109,
   "id": "f87e9521",
   "metadata": {},
   "outputs": [
    {
     "data": {
      "text/plain": [
       "array([[3, 4, 6, 6, 7, 9],\n",
       "       [2, 3, 4, 6, 7, 7],\n",
       "       [1, 2, 4, 5, 7, 7],\n",
       "       [0, 1, 4, 5, 5, 9]])"
      ]
     },
     "execution_count": 109,
     "metadata": {},
     "output_type": "execute_result"
    }
   ],
   "source": [
    "np.sort(MatA,axis=1) # sort theo hàng"
   ]
  },
  {
   "cell_type": "markdown",
   "id": "5fa635d2",
   "metadata": {},
   "source": [
    "# Linear Algebra"
   ]
  },
  {
   "cell_type": "code",
   "execution_count": 110,
   "id": "2331b111",
   "metadata": {},
   "outputs": [],
   "source": [
    "MatA=np.array([[1,2,3],\n",
    "               [4,5,6],\n",
    "               [7,8,9]])\n",
    "MatB=np.array([[6,5],\n",
    "               [4,3],\n",
    "               [2,1]])"
   ]
  },
  {
   "cell_type": "code",
   "execution_count": 111,
   "id": "dc5c8875",
   "metadata": {},
   "outputs": [
    {
     "data": {
      "text/plain": [
       "array([[20, 14],\n",
       "       [56, 41],\n",
       "       [92, 68]])"
      ]
     },
     "execution_count": 111,
     "metadata": {},
     "output_type": "execute_result"
    }
   ],
   "source": [
    "# MatA (3x3) dot MatB (3x2) : nhân 2 ma trận\n",
    "MatA.dot(MatB)"
   ]
  },
  {
   "cell_type": "code",
   "execution_count": 114,
   "id": "d320529c",
   "metadata": {},
   "outputs": [
    {
     "data": {
      "text/plain": [
       "20"
      ]
     },
     "execution_count": 114,
     "metadata": {},
     "output_type": "execute_result"
    }
   ],
   "source": [
    "1*6+2*4+3*2 # cách tính nhân 2 ma trận"
   ]
  },
  {
   "cell_type": "code",
   "execution_count": 113,
   "id": "7d4231a5",
   "metadata": {},
   "outputs": [
    {
     "data": {
      "text/plain": [
       "array([[36, 48, 60],\n",
       "       [24, 33, 42]])"
      ]
     },
     "execution_count": 113,
     "metadata": {},
     "output_type": "execute_result"
    }
   ],
   "source": [
    "MatB.T.dot(MatA) # (B.T)*A "
   ]
  },
  {
   "cell_type": "markdown",
   "id": "0006b788",
   "metadata": {},
   "source": [
    "# Dot product example"
   ]
  },
  {
   "cell_type": "code",
   "execution_count": 115,
   "id": "fa654fb9",
   "metadata": {},
   "outputs": [],
   "source": [
    "np.random.seed(0)\n",
    "sale_amounts=np.random.randint(20,size=(5,3))"
   ]
  },
  {
   "cell_type": "code",
   "execution_count": 116,
   "id": "db1bfae2",
   "metadata": {},
   "outputs": [
    {
     "data": {
      "text/plain": [
       "array([[12, 15,  0],\n",
       "       [ 3,  3,  7],\n",
       "       [ 9, 19, 18],\n",
       "       [ 4,  6, 12],\n",
       "       [ 1,  6,  7]])"
      ]
     },
     "execution_count": 116,
     "metadata": {},
     "output_type": "execute_result"
    }
   ],
   "source": [
    "sale_amounts"
   ]
  },
  {
   "cell_type": "code",
   "execution_count": 117,
   "id": "c5458cc2",
   "metadata": {},
   "outputs": [],
   "source": [
    "import pandas as pd\n",
    "weekly_sale=pd.DataFrame(sale_amounts,index=[\"Mon\",\"Tue\",\"Wed\",\"Thus\",\"Fri\"],\n",
    "                         columns=[\"Alomnd Butter\",\"Peanut Butter\",\"Cashew Butter\"])\n"
   ]
  },
  {
   "cell_type": "code",
   "execution_count": 118,
   "id": "6fb727a9",
   "metadata": {},
   "outputs": [
    {
     "data": {
      "text/html": [
       "<div>\n",
       "<style scoped>\n",
       "    .dataframe tbody tr th:only-of-type {\n",
       "        vertical-align: middle;\n",
       "    }\n",
       "\n",
       "    .dataframe tbody tr th {\n",
       "        vertical-align: top;\n",
       "    }\n",
       "\n",
       "    .dataframe thead th {\n",
       "        text-align: right;\n",
       "    }\n",
       "</style>\n",
       "<table border=\"1\" class=\"dataframe\">\n",
       "  <thead>\n",
       "    <tr style=\"text-align: right;\">\n",
       "      <th></th>\n",
       "      <th>Alomnd Butter</th>\n",
       "      <th>Peanut Butter</th>\n",
       "      <th>Cashew Butter</th>\n",
       "    </tr>\n",
       "  </thead>\n",
       "  <tbody>\n",
       "    <tr>\n",
       "      <th>Mon</th>\n",
       "      <td>12</td>\n",
       "      <td>15</td>\n",
       "      <td>0</td>\n",
       "    </tr>\n",
       "    <tr>\n",
       "      <th>Tue</th>\n",
       "      <td>3</td>\n",
       "      <td>3</td>\n",
       "      <td>7</td>\n",
       "    </tr>\n",
       "    <tr>\n",
       "      <th>Wed</th>\n",
       "      <td>9</td>\n",
       "      <td>19</td>\n",
       "      <td>18</td>\n",
       "    </tr>\n",
       "    <tr>\n",
       "      <th>Thus</th>\n",
       "      <td>4</td>\n",
       "      <td>6</td>\n",
       "      <td>12</td>\n",
       "    </tr>\n",
       "    <tr>\n",
       "      <th>Fri</th>\n",
       "      <td>1</td>\n",
       "      <td>6</td>\n",
       "      <td>7</td>\n",
       "    </tr>\n",
       "  </tbody>\n",
       "</table>\n",
       "</div>"
      ],
      "text/plain": [
       "      Alomnd Butter  Peanut Butter  Cashew Butter\n",
       "Mon              12             15              0\n",
       "Tue               3              3              7\n",
       "Wed               9             19             18\n",
       "Thus              4              6             12\n",
       "Fri               1              6              7"
      ]
     },
     "execution_count": 118,
     "metadata": {},
     "output_type": "execute_result"
    }
   ],
   "source": [
    "weekly_sale"
   ]
  },
  {
   "cell_type": "code",
   "execution_count": 119,
   "id": "cd6182da",
   "metadata": {},
   "outputs": [],
   "source": [
    "price=np.array([10,8,12])\n"
   ]
  },
  {
   "cell_type": "code",
   "execution_count": 122,
   "id": "5beab284",
   "metadata": {},
   "outputs": [],
   "source": [
    "butter_price=pd.DataFrame(price.reshape((1,3)),index=[\"Price\"],columns=[\"Alomnd Butter\",\"Peanut Butter\",\"Cashew Butter\"])"
   ]
  },
  {
   "cell_type": "code",
   "execution_count": 123,
   "id": "4510649c",
   "metadata": {},
   "outputs": [
    {
     "data": {
      "text/html": [
       "<div>\n",
       "<style scoped>\n",
       "    .dataframe tbody tr th:only-of-type {\n",
       "        vertical-align: middle;\n",
       "    }\n",
       "\n",
       "    .dataframe tbody tr th {\n",
       "        vertical-align: top;\n",
       "    }\n",
       "\n",
       "    .dataframe thead th {\n",
       "        text-align: right;\n",
       "    }\n",
       "</style>\n",
       "<table border=\"1\" class=\"dataframe\">\n",
       "  <thead>\n",
       "    <tr style=\"text-align: right;\">\n",
       "      <th></th>\n",
       "      <th>Alomnd Butter</th>\n",
       "      <th>Peanut Butter</th>\n",
       "      <th>Cashew Butter</th>\n",
       "    </tr>\n",
       "  </thead>\n",
       "  <tbody>\n",
       "    <tr>\n",
       "      <th>Price</th>\n",
       "      <td>10</td>\n",
       "      <td>8</td>\n",
       "      <td>12</td>\n",
       "    </tr>\n",
       "  </tbody>\n",
       "</table>\n",
       "</div>"
      ],
      "text/plain": [
       "       Alomnd Butter  Peanut Butter  Cashew Butter\n",
       "Price             10              8             12"
      ]
     },
     "execution_count": 123,
     "metadata": {},
     "output_type": "execute_result"
    }
   ],
   "source": [
    "butter_price"
   ]
  },
  {
   "cell_type": "code",
   "execution_count": 125,
   "id": "48c36545",
   "metadata": {},
   "outputs": [],
   "source": [
    "total_price=weekly_sale.dot(butter_price.T)"
   ]
  },
  {
   "cell_type": "code",
   "execution_count": 126,
   "id": "23cb57bf",
   "metadata": {},
   "outputs": [],
   "source": [
    "weekly_sale[\"Total_price\"]=total_price"
   ]
  },
  {
   "cell_type": "code",
   "execution_count": 127,
   "id": "8b3512bc",
   "metadata": {},
   "outputs": [
    {
     "data": {
      "text/html": [
       "<div>\n",
       "<style scoped>\n",
       "    .dataframe tbody tr th:only-of-type {\n",
       "        vertical-align: middle;\n",
       "    }\n",
       "\n",
       "    .dataframe tbody tr th {\n",
       "        vertical-align: top;\n",
       "    }\n",
       "\n",
       "    .dataframe thead th {\n",
       "        text-align: right;\n",
       "    }\n",
       "</style>\n",
       "<table border=\"1\" class=\"dataframe\">\n",
       "  <thead>\n",
       "    <tr style=\"text-align: right;\">\n",
       "      <th></th>\n",
       "      <th>Alomnd Butter</th>\n",
       "      <th>Peanut Butter</th>\n",
       "      <th>Cashew Butter</th>\n",
       "      <th>Total_price</th>\n",
       "    </tr>\n",
       "  </thead>\n",
       "  <tbody>\n",
       "    <tr>\n",
       "      <th>Mon</th>\n",
       "      <td>12</td>\n",
       "      <td>15</td>\n",
       "      <td>0</td>\n",
       "      <td>240</td>\n",
       "    </tr>\n",
       "    <tr>\n",
       "      <th>Tue</th>\n",
       "      <td>3</td>\n",
       "      <td>3</td>\n",
       "      <td>7</td>\n",
       "      <td>138</td>\n",
       "    </tr>\n",
       "    <tr>\n",
       "      <th>Wed</th>\n",
       "      <td>9</td>\n",
       "      <td>19</td>\n",
       "      <td>18</td>\n",
       "      <td>458</td>\n",
       "    </tr>\n",
       "    <tr>\n",
       "      <th>Thus</th>\n",
       "      <td>4</td>\n",
       "      <td>6</td>\n",
       "      <td>12</td>\n",
       "      <td>232</td>\n",
       "    </tr>\n",
       "    <tr>\n",
       "      <th>Fri</th>\n",
       "      <td>1</td>\n",
       "      <td>6</td>\n",
       "      <td>7</td>\n",
       "      <td>142</td>\n",
       "    </tr>\n",
       "  </tbody>\n",
       "</table>\n",
       "</div>"
      ],
      "text/plain": [
       "      Alomnd Butter  Peanut Butter  Cashew Butter  Total_price\n",
       "Mon              12             15              0          240\n",
       "Tue               3              3              7          138\n",
       "Wed               9             19             18          458\n",
       "Thus              4              6             12          232\n",
       "Fri               1              6              7          142"
      ]
     },
     "execution_count": 127,
     "metadata": {},
     "output_type": "execute_result"
    }
   ],
   "source": [
    "weekly_sale"
   ]
  },
  {
   "cell_type": "code",
   "execution_count": null,
   "id": "55d9de80",
   "metadata": {},
   "outputs": [],
   "source": []
  }
 ],
 "metadata": {
  "kernelspec": {
   "display_name": "Python 3 (ipykernel)",
   "language": "python",
   "name": "python3"
  },
  "language_info": {
   "codemirror_mode": {
    "name": "ipython",
    "version": 3
   },
   "file_extension": ".py",
   "mimetype": "text/x-python",
   "name": "python",
   "nbconvert_exporter": "python",
   "pygments_lexer": "ipython3",
   "version": "3.9.7"
  }
 },
 "nbformat": 4,
 "nbformat_minor": 5
}
